{
 "cells": [
  {
   "cell_type": "code",
   "execution_count": 1,
   "metadata": {},
   "outputs": [],
   "source": [
    "# Importing all libraries\n",
    "import numpy as np\n",
    "import pandas as pd\n",
    "import matplotlib.pyplot as plt\n",
    "import seaborn as sns"
   ]
  },
  {
   "cell_type": "code",
   "execution_count": 4,
   "metadata": {},
   "outputs": [],
   "source": [
    "# Importing Operating-System interaction library\n",
    "import os\n",
    "from os.path import join"
   ]
  },
  {
   "cell_type": "code",
   "execution_count": 9,
   "metadata": {},
   "outputs": [],
   "source": [
    "data_recordings = []\n",
    "list_of_dirs = [join(r'D:\\PBLML\\DataPaper', directory) for directory in os.listdir(r'D:\\PBLML\\DataPaper')]\n",
    "for directory in list_of_dirs:\n",
    "    data = dict()\n",
    "    df = pd.read_csv(join(directory, 'sleep.csv'))\n",
    "    data['THS'] = list(df['Total Sleep Time (TST)'])\n",
    "    df = pd.read_csv(join(directory, 'user_info.csv'))\n",
    "    data['gender'] = list(df['Gender'])[0]\n",
    "    data['weight'] = list(df['Weight'])[0]\n",
    "    data['height'] = list(df['Height'])[0]\n",
    "    data['age'] = list(df['Age'])[0]\n",
    "    df = pd.read_csv(join(directory, 'questionnaire.csv'))\n",
    "    data['DSI'] = list(df['Daily_stress'])[0]\n",
    "    data_recordings.append(data)"
   ]
  },
  {
   "cell_type": "code",
   "execution_count": 10,
   "metadata": {},
   "outputs": [
    {
     "data": {
      "text/plain": [
       "[{'THS': [144, 196],\n",
       "  'gender': 'M',\n",
       "  'weight': 65,\n",
       "  'height': 169,\n",
       "  'age': 29,\n",
       "  'DSI': 23},\n",
       " {'THS': [247],\n",
       "  'gender': 'M',\n",
       "  'weight': 85,\n",
       "  'height': 180,\n",
       "  'age': 27,\n",
       "  'DSI': 14},\n",
       " {'THS': [],\n",
       "  'gender': 'M',\n",
       "  'weight': 115,\n",
       "  'height': 186,\n",
       "  'age': 27,\n",
       "  'DSI': 17},\n",
       " {'THS': [343],\n",
       "  'gender': 'M',\n",
       "  'weight': 67,\n",
       "  'height': 170,\n",
       "  'age': 27,\n",
       "  'DSI': 48},\n",
       " {'THS': [247],\n",
       "  'gender': 'M',\n",
       "  'weight': 74,\n",
       "  'height': 180,\n",
       "  'age': 25,\n",
       "  'DSI': 27.0},\n",
       " {'THS': [374],\n",
       "  'gender': 'M',\n",
       "  'weight': 64,\n",
       "  'height': 171,\n",
       "  'age': 27,\n",
       "  'DSI': 26},\n",
       " {'THS': [236],\n",
       "  'gender': 'M',\n",
       "  'weight': 80,\n",
       "  'height': 180,\n",
       "  'age': 24,\n",
       "  'DSI': 35},\n",
       " {'THS': [339],\n",
       "  'gender': 'M',\n",
       "  'weight': 67,\n",
       "  'height': 176,\n",
       "  'age': 27,\n",
       "  'DSI': 32},\n",
       " {'THS': [306],\n",
       "  'gender': 'M',\n",
       "  'weight': 60,\n",
       "  'height': 175,\n",
       "  'age': 24,\n",
       "  'DSI': 20},\n",
       " {'THS': [302],\n",
       "  'gender': 'M',\n",
       "  'weight': 80,\n",
       "  'height': 180,\n",
       "  'age': 0,\n",
       "  'DSI': 32},\n",
       " {'THS': [340],\n",
       "  'gender': 'M',\n",
       "  'weight': 70,\n",
       "  'height': 183,\n",
       "  'age': 22,\n",
       "  'DSI': 31},\n",
       " {'THS': [244],\n",
       "  'gender': 'M',\n",
       "  'weight': 95,\n",
       "  'height': 183,\n",
       "  'age': 27,\n",
       "  'DSI': 26},\n",
       " {'THS': [384],\n",
       "  'gender': 'M',\n",
       "  'weight': 70,\n",
       "  'height': 175,\n",
       "  'age': 29,\n",
       "  'DSI': 22},\n",
       " {'THS': [273],\n",
       "  'gender': 'M',\n",
       "  'weight': 70,\n",
       "  'height': 175,\n",
       "  'age': 28,\n",
       "  'DSI': 30},\n",
       " {'THS': [304],\n",
       "  'gender': 'M',\n",
       "  'weight': 92,\n",
       "  'height': 205,\n",
       "  'age': 32,\n",
       "  'DSI': 41},\n",
       " {'THS': [351],\n",
       "  'gender': 'M',\n",
       "  'weight': 70,\n",
       "  'height': 174,\n",
       "  'age': 34,\n",
       "  'DSI': 11},\n",
       " {'THS': [319],\n",
       "  'gender': 'M',\n",
       "  'weight': 76,\n",
       "  'height': 180,\n",
       "  'age': 27,\n",
       "  'DSI': 10},\n",
       " {'THS': [348],\n",
       "  'gender': 'M',\n",
       "  'weight': 80,\n",
       "  'height': 196,\n",
       "  'age': 25,\n",
       "  'DSI': 41},\n",
       " {'THS': [333],\n",
       "  'gender': 'M',\n",
       "  'weight': 62,\n",
       "  'height': 178,\n",
       "  'age': 27,\n",
       "  'DSI': 41},\n",
       " {'THS': [342],\n",
       "  'gender': 'M',\n",
       "  'weight': 65,\n",
       "  'height': 183,\n",
       "  'age': 25,\n",
       "  'DSI': 69},\n",
       " {'THS': [336],\n",
       "  'gender': 'M',\n",
       "  'weight': 74,\n",
       "  'height': 184,\n",
       "  'age': 40,\n",
       "  'DSI': 74},\n",
       " {'THS': [578],\n",
       "  'gender': 'M',\n",
       "  'weight': 70,\n",
       "  'height': 175,\n",
       "  'age': 20,\n",
       "  'DSI': 38}]"
      ]
     },
     "execution_count": 10,
     "metadata": {},
     "output_type": "execute_result"
    }
   ],
   "source": [
    "data_recordings"
   ]
  },
  {
   "cell_type": "code",
   "execution_count": 12,
   "metadata": {},
   "outputs": [],
   "source": [
    "recordings = []\n",
    "for record in data_recordings:\n",
    "    for i in range(len(record['THS'])):\n",
    "        recordings.append({\n",
    "            \"THS\" : record['THS'][i],\n",
    "            \"gender\" : record['gender'],\n",
    "            \"weight\" : record['weight'],\n",
    "            \"height\" : record['height'],\n",
    "            \"age\" : record['age'],\n",
    "            \"DSI\" : record['DSI']\n",
    "        })"
   ]
  },
  {
   "cell_type": "code",
   "execution_count": 13,
   "metadata": {},
   "outputs": [
    {
     "data": {
      "text/plain": [
       "[{'THS': 144,\n",
       "  'gender': 'M',\n",
       "  'weight': 65,\n",
       "  'height': 169,\n",
       "  'age': 29,\n",
       "  'DSI': 23},\n",
       " {'THS': 196,\n",
       "  'gender': 'M',\n",
       "  'weight': 65,\n",
       "  'height': 169,\n",
       "  'age': 29,\n",
       "  'DSI': 23},\n",
       " {'THS': 247,\n",
       "  'gender': 'M',\n",
       "  'weight': 85,\n",
       "  'height': 180,\n",
       "  'age': 27,\n",
       "  'DSI': 14},\n",
       " {'THS': 343,\n",
       "  'gender': 'M',\n",
       "  'weight': 67,\n",
       "  'height': 170,\n",
       "  'age': 27,\n",
       "  'DSI': 48},\n",
       " {'THS': 247,\n",
       "  'gender': 'M',\n",
       "  'weight': 74,\n",
       "  'height': 180,\n",
       "  'age': 25,\n",
       "  'DSI': 27.0},\n",
       " {'THS': 374,\n",
       "  'gender': 'M',\n",
       "  'weight': 64,\n",
       "  'height': 171,\n",
       "  'age': 27,\n",
       "  'DSI': 26},\n",
       " {'THS': 236,\n",
       "  'gender': 'M',\n",
       "  'weight': 80,\n",
       "  'height': 180,\n",
       "  'age': 24,\n",
       "  'DSI': 35},\n",
       " {'THS': 339,\n",
       "  'gender': 'M',\n",
       "  'weight': 67,\n",
       "  'height': 176,\n",
       "  'age': 27,\n",
       "  'DSI': 32},\n",
       " {'THS': 306,\n",
       "  'gender': 'M',\n",
       "  'weight': 60,\n",
       "  'height': 175,\n",
       "  'age': 24,\n",
       "  'DSI': 20},\n",
       " {'THS': 302, 'gender': 'M', 'weight': 80, 'height': 180, 'age': 0, 'DSI': 32},\n",
       " {'THS': 340,\n",
       "  'gender': 'M',\n",
       "  'weight': 70,\n",
       "  'height': 183,\n",
       "  'age': 22,\n",
       "  'DSI': 31},\n",
       " {'THS': 244,\n",
       "  'gender': 'M',\n",
       "  'weight': 95,\n",
       "  'height': 183,\n",
       "  'age': 27,\n",
       "  'DSI': 26},\n",
       " {'THS': 384,\n",
       "  'gender': 'M',\n",
       "  'weight': 70,\n",
       "  'height': 175,\n",
       "  'age': 29,\n",
       "  'DSI': 22},\n",
       " {'THS': 273,\n",
       "  'gender': 'M',\n",
       "  'weight': 70,\n",
       "  'height': 175,\n",
       "  'age': 28,\n",
       "  'DSI': 30},\n",
       " {'THS': 304,\n",
       "  'gender': 'M',\n",
       "  'weight': 92,\n",
       "  'height': 205,\n",
       "  'age': 32,\n",
       "  'DSI': 41},\n",
       " {'THS': 351,\n",
       "  'gender': 'M',\n",
       "  'weight': 70,\n",
       "  'height': 174,\n",
       "  'age': 34,\n",
       "  'DSI': 11},\n",
       " {'THS': 319,\n",
       "  'gender': 'M',\n",
       "  'weight': 76,\n",
       "  'height': 180,\n",
       "  'age': 27,\n",
       "  'DSI': 10},\n",
       " {'THS': 348,\n",
       "  'gender': 'M',\n",
       "  'weight': 80,\n",
       "  'height': 196,\n",
       "  'age': 25,\n",
       "  'DSI': 41},\n",
       " {'THS': 333,\n",
       "  'gender': 'M',\n",
       "  'weight': 62,\n",
       "  'height': 178,\n",
       "  'age': 27,\n",
       "  'DSI': 41},\n",
       " {'THS': 342,\n",
       "  'gender': 'M',\n",
       "  'weight': 65,\n",
       "  'height': 183,\n",
       "  'age': 25,\n",
       "  'DSI': 69},\n",
       " {'THS': 336,\n",
       "  'gender': 'M',\n",
       "  'weight': 74,\n",
       "  'height': 184,\n",
       "  'age': 40,\n",
       "  'DSI': 74},\n",
       " {'THS': 578,\n",
       "  'gender': 'M',\n",
       "  'weight': 70,\n",
       "  'height': 175,\n",
       "  'age': 20,\n",
       "  'DSI': 38}]"
      ]
     },
     "execution_count": 13,
     "metadata": {},
     "output_type": "execute_result"
    }
   ],
   "source": [
    "recordings"
   ]
  },
  {
   "cell_type": "code",
   "execution_count": 28,
   "metadata": {},
   "outputs": [],
   "source": [
    "df = pd.DataFrame.from_records(recordings)"
   ]
  },
  {
   "cell_type": "code",
   "execution_count": 29,
   "metadata": {},
   "outputs": [
    {
     "data": {
      "text/html": [
       "<div>\n",
       "<style scoped>\n",
       "    .dataframe tbody tr th:only-of-type {\n",
       "        vertical-align: middle;\n",
       "    }\n",
       "\n",
       "    .dataframe tbody tr th {\n",
       "        vertical-align: top;\n",
       "    }\n",
       "\n",
       "    .dataframe thead th {\n",
       "        text-align: right;\n",
       "    }\n",
       "</style>\n",
       "<table border=\"1\" class=\"dataframe\">\n",
       "  <thead>\n",
       "    <tr style=\"text-align: right;\">\n",
       "      <th></th>\n",
       "      <th>THS</th>\n",
       "      <th>gender</th>\n",
       "      <th>weight</th>\n",
       "      <th>height</th>\n",
       "      <th>age</th>\n",
       "      <th>DSI</th>\n",
       "    </tr>\n",
       "  </thead>\n",
       "  <tbody>\n",
       "    <tr>\n",
       "      <th>0</th>\n",
       "      <td>144</td>\n",
       "      <td>M</td>\n",
       "      <td>65</td>\n",
       "      <td>169</td>\n",
       "      <td>29</td>\n",
       "      <td>23.0</td>\n",
       "    </tr>\n",
       "    <tr>\n",
       "      <th>1</th>\n",
       "      <td>196</td>\n",
       "      <td>M</td>\n",
       "      <td>65</td>\n",
       "      <td>169</td>\n",
       "      <td>29</td>\n",
       "      <td>23.0</td>\n",
       "    </tr>\n",
       "    <tr>\n",
       "      <th>2</th>\n",
       "      <td>247</td>\n",
       "      <td>M</td>\n",
       "      <td>85</td>\n",
       "      <td>180</td>\n",
       "      <td>27</td>\n",
       "      <td>14.0</td>\n",
       "    </tr>\n",
       "    <tr>\n",
       "      <th>3</th>\n",
       "      <td>343</td>\n",
       "      <td>M</td>\n",
       "      <td>67</td>\n",
       "      <td>170</td>\n",
       "      <td>27</td>\n",
       "      <td>48.0</td>\n",
       "    </tr>\n",
       "    <tr>\n",
       "      <th>4</th>\n",
       "      <td>247</td>\n",
       "      <td>M</td>\n",
       "      <td>74</td>\n",
       "      <td>180</td>\n",
       "      <td>25</td>\n",
       "      <td>27.0</td>\n",
       "    </tr>\n",
       "    <tr>\n",
       "      <th>5</th>\n",
       "      <td>374</td>\n",
       "      <td>M</td>\n",
       "      <td>64</td>\n",
       "      <td>171</td>\n",
       "      <td>27</td>\n",
       "      <td>26.0</td>\n",
       "    </tr>\n",
       "    <tr>\n",
       "      <th>6</th>\n",
       "      <td>236</td>\n",
       "      <td>M</td>\n",
       "      <td>80</td>\n",
       "      <td>180</td>\n",
       "      <td>24</td>\n",
       "      <td>35.0</td>\n",
       "    </tr>\n",
       "    <tr>\n",
       "      <th>7</th>\n",
       "      <td>339</td>\n",
       "      <td>M</td>\n",
       "      <td>67</td>\n",
       "      <td>176</td>\n",
       "      <td>27</td>\n",
       "      <td>32.0</td>\n",
       "    </tr>\n",
       "    <tr>\n",
       "      <th>8</th>\n",
       "      <td>306</td>\n",
       "      <td>M</td>\n",
       "      <td>60</td>\n",
       "      <td>175</td>\n",
       "      <td>24</td>\n",
       "      <td>20.0</td>\n",
       "    </tr>\n",
       "    <tr>\n",
       "      <th>9</th>\n",
       "      <td>302</td>\n",
       "      <td>M</td>\n",
       "      <td>80</td>\n",
       "      <td>180</td>\n",
       "      <td>0</td>\n",
       "      <td>32.0</td>\n",
       "    </tr>\n",
       "    <tr>\n",
       "      <th>10</th>\n",
       "      <td>340</td>\n",
       "      <td>M</td>\n",
       "      <td>70</td>\n",
       "      <td>183</td>\n",
       "      <td>22</td>\n",
       "      <td>31.0</td>\n",
       "    </tr>\n",
       "    <tr>\n",
       "      <th>11</th>\n",
       "      <td>244</td>\n",
       "      <td>M</td>\n",
       "      <td>95</td>\n",
       "      <td>183</td>\n",
       "      <td>27</td>\n",
       "      <td>26.0</td>\n",
       "    </tr>\n",
       "    <tr>\n",
       "      <th>12</th>\n",
       "      <td>384</td>\n",
       "      <td>M</td>\n",
       "      <td>70</td>\n",
       "      <td>175</td>\n",
       "      <td>29</td>\n",
       "      <td>22.0</td>\n",
       "    </tr>\n",
       "    <tr>\n",
       "      <th>13</th>\n",
       "      <td>273</td>\n",
       "      <td>M</td>\n",
       "      <td>70</td>\n",
       "      <td>175</td>\n",
       "      <td>28</td>\n",
       "      <td>30.0</td>\n",
       "    </tr>\n",
       "    <tr>\n",
       "      <th>14</th>\n",
       "      <td>304</td>\n",
       "      <td>M</td>\n",
       "      <td>92</td>\n",
       "      <td>205</td>\n",
       "      <td>32</td>\n",
       "      <td>41.0</td>\n",
       "    </tr>\n",
       "    <tr>\n",
       "      <th>15</th>\n",
       "      <td>351</td>\n",
       "      <td>M</td>\n",
       "      <td>70</td>\n",
       "      <td>174</td>\n",
       "      <td>34</td>\n",
       "      <td>11.0</td>\n",
       "    </tr>\n",
       "    <tr>\n",
       "      <th>16</th>\n",
       "      <td>319</td>\n",
       "      <td>M</td>\n",
       "      <td>76</td>\n",
       "      <td>180</td>\n",
       "      <td>27</td>\n",
       "      <td>10.0</td>\n",
       "    </tr>\n",
       "    <tr>\n",
       "      <th>17</th>\n",
       "      <td>348</td>\n",
       "      <td>M</td>\n",
       "      <td>80</td>\n",
       "      <td>196</td>\n",
       "      <td>25</td>\n",
       "      <td>41.0</td>\n",
       "    </tr>\n",
       "    <tr>\n",
       "      <th>18</th>\n",
       "      <td>333</td>\n",
       "      <td>M</td>\n",
       "      <td>62</td>\n",
       "      <td>178</td>\n",
       "      <td>27</td>\n",
       "      <td>41.0</td>\n",
       "    </tr>\n",
       "    <tr>\n",
       "      <th>19</th>\n",
       "      <td>342</td>\n",
       "      <td>M</td>\n",
       "      <td>65</td>\n",
       "      <td>183</td>\n",
       "      <td>25</td>\n",
       "      <td>69.0</td>\n",
       "    </tr>\n",
       "    <tr>\n",
       "      <th>20</th>\n",
       "      <td>336</td>\n",
       "      <td>M</td>\n",
       "      <td>74</td>\n",
       "      <td>184</td>\n",
       "      <td>40</td>\n",
       "      <td>74.0</td>\n",
       "    </tr>\n",
       "    <tr>\n",
       "      <th>21</th>\n",
       "      <td>578</td>\n",
       "      <td>M</td>\n",
       "      <td>70</td>\n",
       "      <td>175</td>\n",
       "      <td>20</td>\n",
       "      <td>38.0</td>\n",
       "    </tr>\n",
       "  </tbody>\n",
       "</table>\n",
       "</div>"
      ],
      "text/plain": [
       "    THS gender  weight  height  age   DSI\n",
       "0   144      M      65     169   29  23.0\n",
       "1   196      M      65     169   29  23.0\n",
       "2   247      M      85     180   27  14.0\n",
       "3   343      M      67     170   27  48.0\n",
       "4   247      M      74     180   25  27.0\n",
       "5   374      M      64     171   27  26.0\n",
       "6   236      M      80     180   24  35.0\n",
       "7   339      M      67     176   27  32.0\n",
       "8   306      M      60     175   24  20.0\n",
       "9   302      M      80     180    0  32.0\n",
       "10  340      M      70     183   22  31.0\n",
       "11  244      M      95     183   27  26.0\n",
       "12  384      M      70     175   29  22.0\n",
       "13  273      M      70     175   28  30.0\n",
       "14  304      M      92     205   32  41.0\n",
       "15  351      M      70     174   34  11.0\n",
       "16  319      M      76     180   27  10.0\n",
       "17  348      M      80     196   25  41.0\n",
       "18  333      M      62     178   27  41.0\n",
       "19  342      M      65     183   25  69.0\n",
       "20  336      M      74     184   40  74.0\n",
       "21  578      M      70     175   20  38.0"
      ]
     },
     "execution_count": 29,
     "metadata": {},
     "output_type": "execute_result"
    }
   ],
   "source": [
    "df"
   ]
  },
  {
   "cell_type": "code",
   "execution_count": 30,
   "metadata": {},
   "outputs": [
    {
     "data": {
      "text/plain": [
       "<matplotlib.collections.PathCollection at 0x20ab8f03408>"
      ]
     },
     "execution_count": 30,
     "metadata": {},
     "output_type": "execute_result"
    },
    {
     "data": {
      "image/png": "[encoded data removed]",
      "text/plain": [
       "<Figure size 432x288 with 1 Axes>"
      ]
     },
     "metadata": {
      "needs_background": "light"
     },
     "output_type": "display_data"
    }
   ],
   "source": [
    "plt.scatter(df['THS'], df['DSI'])"
   ]
  },
  {
   "cell_type": "code",
   "execution_count": 31,
   "metadata": {},
   "outputs": [
    {
     "data": {
      "text/plain": [
       "<seaborn.axisgrid.FacetGrid at 0x20ab8fdb2c8>"
      ]
     },
     "execution_count": 31,
     "metadata": {},
     "output_type": "execute_result"
    },
    {
     "data": {
      "image/png": "[encoded data removed]",
      "text/plain": [
       "<Figure size 360x360 with 1 Axes>"
      ]
     },
     "metadata": {
      "needs_background": "light"
     },
     "output_type": "display_data"
    }
   ],
   "source": [
    "sns.lmplot('THS', \"DSI\", data=df)"
   ]
  },
  {
   "cell_type": "code",
   "execution_count": 32,
   "metadata": {},
   "outputs": [
    {
     "data": {
      "text/plain": [
       "<seaborn.axisgrid.FacetGrid at 0x20ab9080448>"
      ]
     },
     "execution_count": 32,
     "metadata": {},
     "output_type": "execute_result"
    },
    {
     "data": {
      "image/png": "[encoded data removed]",
      "text/plain": [
       "<Figure size 360x360 with 1 Axes>"
      ]
     },
     "metadata": {
      "needs_background": "light"
     },
     "output_type": "display_data"
    }
   ],
   "source": [
    "sns.lmplot('weight', \"DSI\", data=df)"
   ]
  },
  {
   "cell_type": "code",
   "execution_count": 33,
   "metadata": {},
   "outputs": [
    {
     "data": {
      "text/plain": [
       "<seaborn.axisgrid.FacetGrid at 0x20ab9142f08>"
      ]
     },
     "execution_count": 33,
     "metadata": {},
     "output_type": "execute_result"
    },
    {
     "data": {
      "image/png": "[encoded data removed]",
      "text/plain": [
       "<Figure size 360x360 with 1 Axes>"
      ]
     },
     "metadata": {
      "needs_background": "light"
     },
     "output_type": "display_data"
    }
   ],
   "source": [
    "sns.lmplot('height', \"DSI\", data=df)"
   ]
  },
  {
   "cell_type": "code",
   "execution_count": 34,
   "metadata": {},
   "outputs": [
    {
     "data": {
      "text/plain": [
       "<seaborn.axisgrid.FacetGrid at 0x20ab94a5bc8>"
      ]
     },
     "execution_count": 34,
     "metadata": {},
     "output_type": "execute_result"
    },
    {
     "data": {
      "image/png": "[encoded data removed]",
      "text/plain": [
       "<Figure size 360x360 with 1 Axes>"
      ]
     },
     "metadata": {
      "needs_background": "light"
     },
     "output_type": "display_data"
    }
   ],
   "source": [
    "sns.lmplot('age', \"DSI\", data=df)"
   ]
  },
  {
   "cell_type": "code",
   "execution_count": 35,
   "metadata": {},
   "outputs": [],
   "source": [
    "df['height'] = df['height'] / 100"
   ]
  },
  {
   "cell_type": "code",
   "execution_count": 36,
   "metadata": {},
   "outputs": [],
   "source": [
    "df['IMC'] = df['weight'] / df['height'] ** 2"
   ]
  },
  {
   "cell_type": "code",
   "execution_count": 37,
   "metadata": {},
   "outputs": [
    {
     "data": {
      "text/plain": [
       "<seaborn.axisgrid.FacetGrid at 0x20ab908ea88>"
      ]
     },
     "execution_count": 37,
     "metadata": {},
     "output_type": "execute_result"
    },
    {
     "data": {
      "image/png": "[encoded data removed]",
      "text/plain": [
       "<Figure size 360x360 with 1 Axes>"
      ]
     },
     "metadata": {
      "needs_background": "light"
     },
     "output_type": "display_data"
    }
   ],
   "source": [
    "sns.lmplot('IMC', \"DSI\", data=df)"
   ]
  },
  {
   "cell_type": "code",
   "execution_count": 38,
   "metadata": {},
   "outputs": [],
   "source": [
    "df = df.drop(['height', 'weight', 'gender', 'age'], axis=1)"
   ]
  },
  {
   "cell_type": "code",
   "execution_count": 39,
   "metadata": {},
   "outputs": [
    {
     "data": {
      "text/html": [
       "<div>\n",
       "<style scoped>\n",
       "    .dataframe tbody tr th:only-of-type {\n",
       "        vertical-align: middle;\n",
       "    }\n",
       "\n",
       "    .dataframe tbody tr th {\n",
       "        vertical-align: top;\n",
       "    }\n",
       "\n",
       "    .dataframe thead th {\n",
       "        text-align: right;\n",
       "    }\n",
       "</style>\n",
       "<table border=\"1\" class=\"dataframe\">\n",
       "  <thead>\n",
       "    <tr style=\"text-align: right;\">\n",
       "      <th></th>\n",
       "      <th>THS</th>\n",
       "      <th>DSI</th>\n",
       "      <th>IMC</th>\n",
       "    </tr>\n",
       "  </thead>\n",
       "  <tbody>\n",
       "    <tr>\n",
       "      <th>0</th>\n",
       "      <td>144</td>\n",
       "      <td>23.0</td>\n",
       "      <td>22.758307</td>\n",
       "    </tr>\n",
       "    <tr>\n",
       "      <th>1</th>\n",
       "      <td>196</td>\n",
       "      <td>23.0</td>\n",
       "      <td>22.758307</td>\n",
       "    </tr>\n",
       "    <tr>\n",
       "      <th>2</th>\n",
       "      <td>247</td>\n",
       "      <td>14.0</td>\n",
       "      <td>26.234568</td>\n",
       "    </tr>\n",
       "    <tr>\n",
       "      <th>3</th>\n",
       "      <td>343</td>\n",
       "      <td>48.0</td>\n",
       "      <td>23.183391</td>\n",
       "    </tr>\n",
       "    <tr>\n",
       "      <th>4</th>\n",
       "      <td>247</td>\n",
       "      <td>27.0</td>\n",
       "      <td>22.839506</td>\n",
       "    </tr>\n",
       "    <tr>\n",
       "      <th>5</th>\n",
       "      <td>374</td>\n",
       "      <td>26.0</td>\n",
       "      <td>21.887076</td>\n",
       "    </tr>\n",
       "    <tr>\n",
       "      <th>6</th>\n",
       "      <td>236</td>\n",
       "      <td>35.0</td>\n",
       "      <td>24.691358</td>\n",
       "    </tr>\n",
       "    <tr>\n",
       "      <th>7</th>\n",
       "      <td>339</td>\n",
       "      <td>32.0</td>\n",
       "      <td>21.629649</td>\n",
       "    </tr>\n",
       "    <tr>\n",
       "      <th>8</th>\n",
       "      <td>306</td>\n",
       "      <td>20.0</td>\n",
       "      <td>19.591837</td>\n",
       "    </tr>\n",
       "    <tr>\n",
       "      <th>9</th>\n",
       "      <td>302</td>\n",
       "      <td>32.0</td>\n",
       "      <td>24.691358</td>\n",
       "    </tr>\n",
       "    <tr>\n",
       "      <th>10</th>\n",
       "      <td>340</td>\n",
       "      <td>31.0</td>\n",
       "      <td>20.902386</td>\n",
       "    </tr>\n",
       "    <tr>\n",
       "      <th>11</th>\n",
       "      <td>244</td>\n",
       "      <td>26.0</td>\n",
       "      <td>28.367524</td>\n",
       "    </tr>\n",
       "    <tr>\n",
       "      <th>12</th>\n",
       "      <td>384</td>\n",
       "      <td>22.0</td>\n",
       "      <td>22.857143</td>\n",
       "    </tr>\n",
       "    <tr>\n",
       "      <th>13</th>\n",
       "      <td>273</td>\n",
       "      <td>30.0</td>\n",
       "      <td>22.857143</td>\n",
       "    </tr>\n",
       "    <tr>\n",
       "      <th>14</th>\n",
       "      <td>304</td>\n",
       "      <td>41.0</td>\n",
       "      <td>21.891731</td>\n",
       "    </tr>\n",
       "    <tr>\n",
       "      <th>15</th>\n",
       "      <td>351</td>\n",
       "      <td>11.0</td>\n",
       "      <td>23.120624</td>\n",
       "    </tr>\n",
       "    <tr>\n",
       "      <th>16</th>\n",
       "      <td>319</td>\n",
       "      <td>10.0</td>\n",
       "      <td>23.456790</td>\n",
       "    </tr>\n",
       "    <tr>\n",
       "      <th>17</th>\n",
       "      <td>348</td>\n",
       "      <td>41.0</td>\n",
       "      <td>20.824656</td>\n",
       "    </tr>\n",
       "    <tr>\n",
       "      <th>18</th>\n",
       "      <td>333</td>\n",
       "      <td>41.0</td>\n",
       "      <td>19.568236</td>\n",
       "    </tr>\n",
       "    <tr>\n",
       "      <th>19</th>\n",
       "      <td>342</td>\n",
       "      <td>69.0</td>\n",
       "      <td>19.409358</td>\n",
       "    </tr>\n",
       "    <tr>\n",
       "      <th>20</th>\n",
       "      <td>336</td>\n",
       "      <td>74.0</td>\n",
       "      <td>21.857278</td>\n",
       "    </tr>\n",
       "    <tr>\n",
       "      <th>21</th>\n",
       "      <td>578</td>\n",
       "      <td>38.0</td>\n",
       "      <td>22.857143</td>\n",
       "    </tr>\n",
       "  </tbody>\n",
       "</table>\n",
       "</div>"
      ],
      "text/plain": [
       "    THS   DSI        IMC\n",
       "0   144  23.0  22.758307\n",
       "1   196  23.0  22.758307\n",
       "2   247  14.0  26.234568\n",
       "3   343  48.0  23.183391\n",
       "4   247  27.0  22.839506\n",
       "5   374  26.0  21.887076\n",
       "6   236  35.0  24.691358\n",
       "7   339  32.0  21.629649\n",
       "8   306  20.0  19.591837\n",
       "9   302  32.0  24.691358\n",
       "10  340  31.0  20.902386\n",
       "11  244  26.0  28.367524\n",
       "12  384  22.0  22.857143\n",
       "13  273  30.0  22.857143\n",
       "14  304  41.0  21.891731\n",
       "15  351  11.0  23.120624\n",
       "16  319  10.0  23.456790\n",
       "17  348  41.0  20.824656\n",
       "18  333  41.0  19.568236\n",
       "19  342  69.0  19.409358\n",
       "20  336  74.0  21.857278\n",
       "21  578  38.0  22.857143"
      ]
     },
     "execution_count": 39,
     "metadata": {},
     "output_type": "execute_result"
    }
   ],
   "source": [
    "df"
   ]
  },
  {
   "cell_type": "code",
   "execution_count": 40,
   "metadata": {},
   "outputs": [],
   "source": [
    "X = df[['THS', 'IMC']].values\n",
    "y = df['DSI'].values"
   ]
  },
  {
   "cell_type": "code",
   "execution_count": 41,
   "metadata": {},
   "outputs": [
    {
     "data": {
      "text/plain": [
       "LinearRegression(copy_X=True, fit_intercept=True, n_jobs=None, normalize=False)"
      ]
     },
     "execution_count": 41,
     "metadata": {},
     "output_type": "execute_result"
    }
   ],
   "source": [
    "from sklearn.linear_model import LinearRegression\n",
    "linear = LinearRegression()\n",
    "linear.fit(X, y)"
   ]
  },
  {
   "cell_type": "code",
   "execution_count": 42,
   "metadata": {},
   "outputs": [
    {
     "data": {
      "text/plain": [
       "array([ 0.02725267, -2.63946969])"
      ]
     },
     "execution_count": 42,
     "metadata": {},
     "output_type": "execute_result"
    }
   ],
   "source": [
    "linear.coef_"
   ]
  },
  {
   "cell_type": "code",
   "execution_count": 43,
   "metadata": {},
   "outputs": [],
   "source": [
    "y_pred = linear.predict(X)"
   ]
  },
  {
   "cell_type": "code",
   "execution_count": 44,
   "metadata": {},
   "outputs": [
    {
     "data": {
      "text/plain": [
       "[<matplotlib.lines.Line2D at 0x20abcb129c8>]"
      ]
     },
     "execution_count": 44,
     "metadata": {},
     "output_type": "execute_result"
    },
    {
     "data": {
      "image/png": "[encoded data removed]",
      "text/plain": [
       "<Figure size 432x288 with 1 Axes>"
      ]
     },
     "metadata": {
      "needs_background": "light"
     },
     "output_type": "display_data"
    }
   ],
   "source": [
    "plt.plot(range(len(y)), y)\n",
    "plt.plot(range(len(y_pred)), y_pred)"
   ]
  },
  {
   "cell_type": "code",
   "execution_count": 46,
   "metadata": {},
   "outputs": [],
   "source": [
    "import pickle\n",
    "pickle.dump(linear, open('DSI.obj', 'wb'))"
   ]
  },
  {
   "cell_type": "code",
   "execution_count": null,
   "metadata": {},
   "outputs": [],
   "source": []
  }
 ],
 "metadata": {
  "kernelspec": {
   "display_name": "Python 3",
   "language": "python",
   "name": "python3"
  },
  "language_info": {
   "codemirror_mode": {
    "name": "ipython",
    "version": 3
   },
   "file_extension": ".py",
   "mimetype": "text/x-python",
   "name": "python",
   "nbconvert_exporter": "python",
   "pygments_lexer": "ipython3",
   "version": "3.7.4"
  }
 },
 "nbformat": 4,
 "nbformat_minor": 4
}

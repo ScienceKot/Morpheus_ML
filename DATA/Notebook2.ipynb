{
 "cells": [
  {
   "cell_type": "code",
   "execution_count": 1,
   "metadata": {},
   "outputs": [],
   "source": [
    "# Importing all libraries\n",
    "import numpy as np\n",
    "import pandas as pd\n",
    "import matplotlib.pyplot as plt\n",
    "import seaborn as sns"
   ]
  },
  {
   "cell_type": "code",
   "execution_count": 3,
   "metadata": {},
   "outputs": [
    {
     "data": {
      "text/html": [
       "<div>\n",
       "<style scoped>\n",
       "    .dataframe tbody tr th:only-of-type {\n",
       "        vertical-align: middle;\n",
       "    }\n",
       "\n",
       "    .dataframe tbody tr th {\n",
       "        vertical-align: top;\n",
       "    }\n",
       "\n",
       "    .dataframe thead th {\n",
       "        text-align: right;\n",
       "    }\n",
       "</style>\n",
       "<table border=\"1\" class=\"dataframe\">\n",
       "  <thead>\n",
       "    <tr style=\"text-align: right;\">\n",
       "      <th></th>\n",
       "      <th>Start</th>\n",
       "      <th>End</th>\n",
       "      <th>Sleep quality</th>\n",
       "      <th>Time in bed</th>\n",
       "      <th>Wake up</th>\n",
       "      <th>Sleep Notes</th>\n",
       "      <th>Heart rate</th>\n",
       "      <th>Activity (steps)</th>\n",
       "    </tr>\n",
       "  </thead>\n",
       "  <tbody>\n",
       "    <tr>\n",
       "      <th>0</th>\n",
       "      <td>2014-12-29 22:57:49</td>\n",
       "      <td>2014-12-30 07:30:13</td>\n",
       "      <td>100%</td>\n",
       "      <td>8:32</td>\n",
       "      <td>:)</td>\n",
       "      <td>NaN</td>\n",
       "      <td>59.0</td>\n",
       "      <td>0</td>\n",
       "    </tr>\n",
       "    <tr>\n",
       "      <th>1</th>\n",
       "      <td>2014-12-30 21:17:50</td>\n",
       "      <td>2014-12-30 21:33:54</td>\n",
       "      <td>3%</td>\n",
       "      <td>0:16</td>\n",
       "      <td>:|</td>\n",
       "      <td>Stressful day</td>\n",
       "      <td>72.0</td>\n",
       "      <td>0</td>\n",
       "    </tr>\n",
       "    <tr>\n",
       "      <th>2</th>\n",
       "      <td>2014-12-30 22:42:49</td>\n",
       "      <td>2014-12-31 07:13:31</td>\n",
       "      <td>98%</td>\n",
       "      <td>8:30</td>\n",
       "      <td>:|</td>\n",
       "      <td>NaN</td>\n",
       "      <td>57.0</td>\n",
       "      <td>0</td>\n",
       "    </tr>\n",
       "    <tr>\n",
       "      <th>3</th>\n",
       "      <td>2014-12-31 22:31:01</td>\n",
       "      <td>2015-01-01 06:03:01</td>\n",
       "      <td>65%</td>\n",
       "      <td>7:32</td>\n",
       "      <td>NaN</td>\n",
       "      <td>NaN</td>\n",
       "      <td>NaN</td>\n",
       "      <td>0</td>\n",
       "    </tr>\n",
       "    <tr>\n",
       "      <th>4</th>\n",
       "      <td>2015-01-01 22:12:10</td>\n",
       "      <td>2015-01-02 04:56:35</td>\n",
       "      <td>72%</td>\n",
       "      <td>6:44</td>\n",
       "      <td>:)</td>\n",
       "      <td>Drank coffee:Drank tea</td>\n",
       "      <td>68.0</td>\n",
       "      <td>0</td>\n",
       "    </tr>\n",
       "    <tr>\n",
       "      <th>...</th>\n",
       "      <td>...</td>\n",
       "      <td>...</td>\n",
       "      <td>...</td>\n",
       "      <td>...</td>\n",
       "      <td>...</td>\n",
       "      <td>...</td>\n",
       "      <td>...</td>\n",
       "      <td>...</td>\n",
       "    </tr>\n",
       "    <tr>\n",
       "      <th>882</th>\n",
       "      <td>2018-02-12 21:54:14</td>\n",
       "      <td>2018-02-13 07:02:15</td>\n",
       "      <td>91%</td>\n",
       "      <td>9:08</td>\n",
       "      <td>NaN</td>\n",
       "      <td>NaN</td>\n",
       "      <td>NaN</td>\n",
       "      <td>56</td>\n",
       "    </tr>\n",
       "    <tr>\n",
       "      <th>883</th>\n",
       "      <td>2018-02-13 23:49:19</td>\n",
       "      <td>2018-02-14 07:00:53</td>\n",
       "      <td>81%</td>\n",
       "      <td>7:11</td>\n",
       "      <td>NaN</td>\n",
       "      <td>NaN</td>\n",
       "      <td>NaN</td>\n",
       "      <td>64</td>\n",
       "    </tr>\n",
       "    <tr>\n",
       "      <th>884</th>\n",
       "      <td>2018-02-14 21:24:05</td>\n",
       "      <td>2018-02-15 06:20:52</td>\n",
       "      <td>71%</td>\n",
       "      <td>8:56</td>\n",
       "      <td>NaN</td>\n",
       "      <td>NaN</td>\n",
       "      <td>NaN</td>\n",
       "      <td>3316</td>\n",
       "    </tr>\n",
       "    <tr>\n",
       "      <th>885</th>\n",
       "      <td>2018-02-15 21:36:32</td>\n",
       "      <td>2018-02-16 06:50:31</td>\n",
       "      <td>80%</td>\n",
       "      <td>9:13</td>\n",
       "      <td>NaN</td>\n",
       "      <td>NaN</td>\n",
       "      <td>NaN</td>\n",
       "      <td>6555</td>\n",
       "    </tr>\n",
       "    <tr>\n",
       "      <th>886</th>\n",
       "      <td>2018-02-16 22:52:29</td>\n",
       "      <td>2018-02-17 07:48:04</td>\n",
       "      <td>91%</td>\n",
       "      <td>8:55</td>\n",
       "      <td>NaN</td>\n",
       "      <td>NaN</td>\n",
       "      <td>NaN</td>\n",
       "      <td>2291</td>\n",
       "    </tr>\n",
       "  </tbody>\n",
       "</table>\n",
       "<p>887 rows × 8 columns</p>\n",
       "</div>"
      ],
      "text/plain": [
       "                   Start                  End Sleep quality Time in bed  \\\n",
       "0    2014-12-29 22:57:49  2014-12-30 07:30:13          100%        8:32   \n",
       "1    2014-12-30 21:17:50  2014-12-30 21:33:54            3%        0:16   \n",
       "2    2014-12-30 22:42:49  2014-12-31 07:13:31           98%        8:30   \n",
       "3    2014-12-31 22:31:01  2015-01-01 06:03:01           65%        7:32   \n",
       "4    2015-01-01 22:12:10  2015-01-02 04:56:35           72%        6:44   \n",
       "..                   ...                  ...           ...         ...   \n",
       "882  2018-02-12 21:54:14  2018-02-13 07:02:15           91%        9:08   \n",
       "883  2018-02-13 23:49:19  2018-02-14 07:00:53           81%        7:11   \n",
       "884  2018-02-14 21:24:05  2018-02-15 06:20:52           71%        8:56   \n",
       "885  2018-02-15 21:36:32  2018-02-16 06:50:31           80%        9:13   \n",
       "886  2018-02-16 22:52:29  2018-02-17 07:48:04           91%        8:55   \n",
       "\n",
       "    Wake up             Sleep Notes  Heart rate  Activity (steps)  \n",
       "0        :)                     NaN        59.0                 0  \n",
       "1        :|           Stressful day        72.0                 0  \n",
       "2        :|                     NaN        57.0                 0  \n",
       "3       NaN                     NaN         NaN                 0  \n",
       "4        :)  Drank coffee:Drank tea        68.0                 0  \n",
       "..      ...                     ...         ...               ...  \n",
       "882     NaN                     NaN         NaN                56  \n",
       "883     NaN                     NaN         NaN                64  \n",
       "884     NaN                     NaN         NaN              3316  \n",
       "885     NaN                     NaN         NaN              6555  \n",
       "886     NaN                     NaN         NaN              2291  \n",
       "\n",
       "[887 rows x 8 columns]"
      ]
     },
     "execution_count": 3,
     "metadata": {},
     "output_type": "execute_result"
    }
   ],
   "source": [
    "df = pd.read_csv('sleepdata.csv', sep=';')\n",
    "df"
   ]
  },
  {
   "cell_type": "code",
   "execution_count": 5,
   "metadata": {},
   "outputs": [
    {
     "name": "stdout",
     "output_type": "stream",
     "text": [
      "<class 'pandas.core.frame.DataFrame'>\n",
      "RangeIndex: 887 entries, 0 to 886\n",
      "Data columns (total 8 columns):\n",
      "Start               887 non-null object\n",
      "End                 887 non-null object\n",
      "Sleep quality       887 non-null object\n",
      "Time in bed         887 non-null object\n",
      "Wake up             246 non-null object\n",
      "Sleep Notes         652 non-null object\n",
      "Heart rate          162 non-null float64\n",
      "Activity (steps)    887 non-null int64\n",
      "dtypes: float64(1), int64(1), object(6)\n",
      "memory usage: 55.6+ KB\n"
     ]
    }
   ],
   "source": [
    "df.info()"
   ]
  },
  {
   "cell_type": "code",
   "execution_count": 6,
   "metadata": {},
   "outputs": [],
   "source": [
    "df['Start'] = pd.to_datetime(df['Start'])\n",
    "df['End'] = pd.to_datetime(df['End'])"
   ]
  },
  {
   "cell_type": "code",
   "execution_count": 10,
   "metadata": {},
   "outputs": [],
   "source": [
    "df['hours_slept'] = (df['End']-df['Start']).astype('timedelta64[h]')"
   ]
  },
  {
   "cell_type": "code",
   "execution_count": 11,
   "metadata": {},
   "outputs": [
    {
     "data": {
      "text/html": [
       "<div>\n",
       "<style scoped>\n",
       "    .dataframe tbody tr th:only-of-type {\n",
       "        vertical-align: middle;\n",
       "    }\n",
       "\n",
       "    .dataframe tbody tr th {\n",
       "        vertical-align: top;\n",
       "    }\n",
       "\n",
       "    .dataframe thead th {\n",
       "        text-align: right;\n",
       "    }\n",
       "</style>\n",
       "<table border=\"1\" class=\"dataframe\">\n",
       "  <thead>\n",
       "    <tr style=\"text-align: right;\">\n",
       "      <th></th>\n",
       "      <th>Start</th>\n",
       "      <th>End</th>\n",
       "      <th>Sleep quality</th>\n",
       "      <th>Time in bed</th>\n",
       "      <th>Wake up</th>\n",
       "      <th>Sleep Notes</th>\n",
       "      <th>Heart rate</th>\n",
       "      <th>Activity (steps)</th>\n",
       "      <th>hours_slept</th>\n",
       "    </tr>\n",
       "  </thead>\n",
       "  <tbody>\n",
       "    <tr>\n",
       "      <th>0</th>\n",
       "      <td>2014-12-29 22:57:49</td>\n",
       "      <td>2014-12-30 07:30:13</td>\n",
       "      <td>100%</td>\n",
       "      <td>8:32</td>\n",
       "      <td>:)</td>\n",
       "      <td>NaN</td>\n",
       "      <td>59.0</td>\n",
       "      <td>0</td>\n",
       "      <td>8.0</td>\n",
       "    </tr>\n",
       "    <tr>\n",
       "      <th>1</th>\n",
       "      <td>2014-12-30 21:17:50</td>\n",
       "      <td>2014-12-30 21:33:54</td>\n",
       "      <td>3%</td>\n",
       "      <td>0:16</td>\n",
       "      <td>:|</td>\n",
       "      <td>Stressful day</td>\n",
       "      <td>72.0</td>\n",
       "      <td>0</td>\n",
       "      <td>0.0</td>\n",
       "    </tr>\n",
       "    <tr>\n",
       "      <th>2</th>\n",
       "      <td>2014-12-30 22:42:49</td>\n",
       "      <td>2014-12-31 07:13:31</td>\n",
       "      <td>98%</td>\n",
       "      <td>8:30</td>\n",
       "      <td>:|</td>\n",
       "      <td>NaN</td>\n",
       "      <td>57.0</td>\n",
       "      <td>0</td>\n",
       "      <td>8.0</td>\n",
       "    </tr>\n",
       "    <tr>\n",
       "      <th>3</th>\n",
       "      <td>2014-12-31 22:31:01</td>\n",
       "      <td>2015-01-01 06:03:01</td>\n",
       "      <td>65%</td>\n",
       "      <td>7:32</td>\n",
       "      <td>NaN</td>\n",
       "      <td>NaN</td>\n",
       "      <td>NaN</td>\n",
       "      <td>0</td>\n",
       "      <td>7.0</td>\n",
       "    </tr>\n",
       "    <tr>\n",
       "      <th>4</th>\n",
       "      <td>2015-01-01 22:12:10</td>\n",
       "      <td>2015-01-02 04:56:35</td>\n",
       "      <td>72%</td>\n",
       "      <td>6:44</td>\n",
       "      <td>:)</td>\n",
       "      <td>Drank coffee:Drank tea</td>\n",
       "      <td>68.0</td>\n",
       "      <td>0</td>\n",
       "      <td>6.0</td>\n",
       "    </tr>\n",
       "    <tr>\n",
       "      <th>...</th>\n",
       "      <td>...</td>\n",
       "      <td>...</td>\n",
       "      <td>...</td>\n",
       "      <td>...</td>\n",
       "      <td>...</td>\n",
       "      <td>...</td>\n",
       "      <td>...</td>\n",
       "      <td>...</td>\n",
       "      <td>...</td>\n",
       "    </tr>\n",
       "    <tr>\n",
       "      <th>882</th>\n",
       "      <td>2018-02-12 21:54:14</td>\n",
       "      <td>2018-02-13 07:02:15</td>\n",
       "      <td>91%</td>\n",
       "      <td>9:08</td>\n",
       "      <td>NaN</td>\n",
       "      <td>NaN</td>\n",
       "      <td>NaN</td>\n",
       "      <td>56</td>\n",
       "      <td>9.0</td>\n",
       "    </tr>\n",
       "    <tr>\n",
       "      <th>883</th>\n",
       "      <td>2018-02-13 23:49:19</td>\n",
       "      <td>2018-02-14 07:00:53</td>\n",
       "      <td>81%</td>\n",
       "      <td>7:11</td>\n",
       "      <td>NaN</td>\n",
       "      <td>NaN</td>\n",
       "      <td>NaN</td>\n",
       "      <td>64</td>\n",
       "      <td>7.0</td>\n",
       "    </tr>\n",
       "    <tr>\n",
       "      <th>884</th>\n",
       "      <td>2018-02-14 21:24:05</td>\n",
       "      <td>2018-02-15 06:20:52</td>\n",
       "      <td>71%</td>\n",
       "      <td>8:56</td>\n",
       "      <td>NaN</td>\n",
       "      <td>NaN</td>\n",
       "      <td>NaN</td>\n",
       "      <td>3316</td>\n",
       "      <td>8.0</td>\n",
       "    </tr>\n",
       "    <tr>\n",
       "      <th>885</th>\n",
       "      <td>2018-02-15 21:36:32</td>\n",
       "      <td>2018-02-16 06:50:31</td>\n",
       "      <td>80%</td>\n",
       "      <td>9:13</td>\n",
       "      <td>NaN</td>\n",
       "      <td>NaN</td>\n",
       "      <td>NaN</td>\n",
       "      <td>6555</td>\n",
       "      <td>9.0</td>\n",
       "    </tr>\n",
       "    <tr>\n",
       "      <th>886</th>\n",
       "      <td>2018-02-16 22:52:29</td>\n",
       "      <td>2018-02-17 07:48:04</td>\n",
       "      <td>91%</td>\n",
       "      <td>8:55</td>\n",
       "      <td>NaN</td>\n",
       "      <td>NaN</td>\n",
       "      <td>NaN</td>\n",
       "      <td>2291</td>\n",
       "      <td>8.0</td>\n",
       "    </tr>\n",
       "  </tbody>\n",
       "</table>\n",
       "<p>887 rows × 9 columns</p>\n",
       "</div>"
      ],
      "text/plain": [
       "                  Start                 End Sleep quality Time in bed Wake up  \\\n",
       "0   2014-12-29 22:57:49 2014-12-30 07:30:13          100%        8:32      :)   \n",
       "1   2014-12-30 21:17:50 2014-12-30 21:33:54            3%        0:16      :|   \n",
       "2   2014-12-30 22:42:49 2014-12-31 07:13:31           98%        8:30      :|   \n",
       "3   2014-12-31 22:31:01 2015-01-01 06:03:01           65%        7:32     NaN   \n",
       "4   2015-01-01 22:12:10 2015-01-02 04:56:35           72%        6:44      :)   \n",
       "..                  ...                 ...           ...         ...     ...   \n",
       "882 2018-02-12 21:54:14 2018-02-13 07:02:15           91%        9:08     NaN   \n",
       "883 2018-02-13 23:49:19 2018-02-14 07:00:53           81%        7:11     NaN   \n",
       "884 2018-02-14 21:24:05 2018-02-15 06:20:52           71%        8:56     NaN   \n",
       "885 2018-02-15 21:36:32 2018-02-16 06:50:31           80%        9:13     NaN   \n",
       "886 2018-02-16 22:52:29 2018-02-17 07:48:04           91%        8:55     NaN   \n",
       "\n",
       "                Sleep Notes  Heart rate  Activity (steps)  hours_slept  \n",
       "0                       NaN        59.0                 0          8.0  \n",
       "1             Stressful day        72.0                 0          0.0  \n",
       "2                       NaN        57.0                 0          8.0  \n",
       "3                       NaN         NaN                 0          7.0  \n",
       "4    Drank coffee:Drank tea        68.0                 0          6.0  \n",
       "..                      ...         ...               ...          ...  \n",
       "882                     NaN         NaN                56          9.0  \n",
       "883                     NaN         NaN                64          7.0  \n",
       "884                     NaN         NaN              3316          8.0  \n",
       "885                     NaN         NaN              6555          9.0  \n",
       "886                     NaN         NaN              2291          8.0  \n",
       "\n",
       "[887 rows x 9 columns]"
      ]
     },
     "execution_count": 11,
     "metadata": {},
     "output_type": "execute_result"
    }
   ],
   "source": [
    "df"
   ]
  },
  {
   "cell_type": "code",
   "execution_count": 17,
   "metadata": {},
   "outputs": [],
   "source": [
    "df['Sleep quality'] = df['Sleep quality'].str.replace(\"%\", \"\")\n",
    "df['Sleep quality'] = df['Sleep quality'].astype('float')"
   ]
  },
  {
   "cell_type": "code",
   "execution_count": 18,
   "metadata": {},
   "outputs": [],
   "source": [
    "X = df['hours_slept'].values\n",
    "y = df['Sleep quality'].values"
   ]
  },
  {
   "cell_type": "code",
   "execution_count": 19,
   "metadata": {},
   "outputs": [
    {
     "name": "stderr",
     "output_type": "stream",
     "text": [
      "c:\\users\\asus vivobook\\miniconda3\\lib\\site-packages\\scipy\\stats\\stats.py:1713: FutureWarning: Using a non-tuple sequence for multidimensional indexing is deprecated; use `arr[tuple(seq)]` instead of `arr[seq]`. In the future this will be interpreted as an array index, `arr[np.array(seq)]`, which will result either in an error or a different result.\n",
      "  return np.add.reduce(sorted[indexer] * weights, axis=axis) / sumval\n"
     ]
    },
    {
     "data": {
      "text/plain": [
       "<seaborn.axisgrid.FacetGrid at 0x14326c3b188>"
      ]
     },
     "execution_count": 19,
     "metadata": {},
     "output_type": "execute_result"
    },
    {
     "data": {
      "image/png": "[encoded data removed]",
      "text/plain": [
       "<Figure size 360x360 with 1 Axes>"
      ]
     },
     "metadata": {
      "needs_background": "light"
     },
     "output_type": "display_data"
    }
   ],
   "source": [
    "sns.lmplot('hours_slept', 'Sleep quality', data=df)"
   ]
  },
  {
   "cell_type": "code",
   "execution_count": 26,
   "metadata": {},
   "outputs": [],
   "source": [
    "from sklearn.linear_model import LinearRegression\n",
    "from sklearn.tree import DecisionTreeRegressor\n",
    "from sklearn.ensemble import RandomForestRegressor\n",
    "from sklearn.svm import SVR"
   ]
  },
  {
   "cell_type": "code",
   "execution_count": 33,
   "metadata": {},
   "outputs": [],
   "source": [
    "from sklearn.metrics import mean_squared_error, mean_absolute_error\n",
    "from sklearn.model_selection import train_test_split"
   ]
  },
  {
   "cell_type": "code",
   "execution_count": 28,
   "metadata": {},
   "outputs": [],
   "source": [
    "X_train, X_test, y_train, y_test = train_test_split(X, y, random_state=42, shuffle=True)"
   ]
  },
  {
   "cell_type": "code",
   "execution_count": 29,
   "metadata": {},
   "outputs": [
    {
     "data": {
      "text/plain": [
       "108.90655222632394"
      ]
     },
     "execution_count": 29,
     "metadata": {},
     "output_type": "execute_result"
    }
   ],
   "source": [
    "linear = LinearRegression()\n",
    "linear.fit(X_train.reshape(-1, 1), y_train)\n",
    "yhat = linear.predict(X_test.reshape(-1, 1))\n",
    "mean_squared_error(yhat, y_test)"
   ]
  },
  {
   "cell_type": "code",
   "execution_count": 30,
   "metadata": {},
   "outputs": [
    {
     "data": {
      "text/plain": [
       "102.76340079685407"
      ]
     },
     "execution_count": 30,
     "metadata": {},
     "output_type": "execute_result"
    }
   ],
   "source": [
    "tree = DecisionTreeRegressor()\n",
    "tree.fit(X_train.reshape(-1, 1), y_train)\n",
    "yhat = tree.predict(X_test.reshape(-1, 1))\n",
    "mean_squared_error(yhat, y_test)"
   ]
  },
  {
   "cell_type": "code",
   "execution_count": 34,
   "metadata": {},
   "outputs": [
    {
     "data": {
      "text/plain": [
       "7.862896772325965"
      ]
     },
     "execution_count": 34,
     "metadata": {},
     "output_type": "execute_result"
    }
   ],
   "source": [
    "forest = RandomForestRegressor()\n",
    "forest.fit(X_train.reshape(-1, 1), y_train)\n",
    "yhat = forest.predict(X_test.reshape(-1, 1))\n",
    "mean_squared_error(yhat, y_test)"
   ]
  },
  {
   "cell_type": "code",
   "execution_count": 32,
   "metadata": {},
   "outputs": [
    {
     "data": {
      "text/plain": [
       "175.55739431294822"
      ]
     },
     "execution_count": 32,
     "metadata": {},
     "output_type": "execute_result"
    }
   ],
   "source": [
    "svm = SVR()\n",
    "svm.fit(X_train.reshape(-1, 1), y_train)\n",
    "yhat = svm.predict(X_test.reshape(-1, 1))\n",
    "mean_squared_error(yhat, y_test)"
   ]
  },
  {
   "cell_type": "code",
   "execution_count": 36,
   "metadata": {},
   "outputs": [],
   "source": [
    "import pickle\n",
    "pickle.dump(forest, open('forest.obj', 'wb'))"
   ]
  },
  {
   "cell_type": "code",
   "execution_count": null,
   "metadata": {},
   "outputs": [],
   "source": []
  }
 ],
 "metadata": {
  "kernelspec": {
   "display_name": "Python 3",
   "language": "python",
   "name": "python3"
  },
  "language_info": {
   "codemirror_mode": {
    "name": "ipython",
    "version": 3
   },
   "file_extension": ".py",
   "mimetype": "text/x-python",
   "name": "python",
   "nbconvert_exporter": "python",
   "pygments_lexer": "ipython3",
   "version": "3.7.4"
  }
 },
 "nbformat": 4,
 "nbformat_minor": 4
}
